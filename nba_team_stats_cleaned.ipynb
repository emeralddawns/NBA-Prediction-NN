{
 "cells": [
  {
   "cell_type": "code",
   "execution_count": 1,
   "metadata": {},
   "outputs": [],
   "source": [
    "import pandas as pd\n",
    "import os"
   ]
  },
  {
   "cell_type": "code",
   "execution_count": 3,
   "metadata": {},
   "outputs": [],
   "source": [
    "reg_off_df = pd.read_csv('nba_team_stats_data/nba_off.csv')\n",
    "reg_def_df = pd.read_csv('nba_team_stats_data/nba_def.csv')\n",
    "reg_adv_df = pd.read_csv('nba_team_stats_data/nba_adv_stats.csv')\n",
    "post_off_df = pd.read_csv('nba_team_stats_data/nba_post_off.csv')\n",
    "post_def_df = pd.read_csv('nba_team_stats_data/nba_post_def.csv')\n",
    "post_adv_df = pd.read_csv('nba_team_stats_data/nba_post_adv_stats.csv')"
   ]
  },
  {
   "cell_type": "code",
   "execution_count": 9,
   "metadata": {},
   "outputs": [
    {
     "data": {
      "text/plain": [
       "Index(['Team', 'G', 'MP', 'FG', 'FGA', 'FG%', '3P', '3PA', '3P%', '2P', '2PA',\n",
       "       '2P%', 'FT', 'FTA', 'FT%', 'ORB', 'DRB', 'TRB', 'AST', 'STL', 'BLK',\n",
       "       'TOV', 'PF', 'PTS'],\n",
       "      dtype='object')"
      ]
     },
     "execution_count": 9,
     "metadata": {},
     "output_type": "execute_result"
    }
   ],
   "source": [
    "reg_off_filtered_df = reg_off_df.drop(columns=['Rk'])\n",
    "reg_off_filtered_df.columns"
   ]
  },
  {
   "cell_type": "code",
   "execution_count": 10,
   "metadata": {},
   "outputs": [
    {
     "data": {
      "text/plain": [
       "Index(['Team', 'G', 'MP', 'FG', 'FGA', 'FG%', '3P', '3PA', '3P%', '2P', '2PA',\n",
       "       '2P%', 'FT', 'FTA', 'FT%', 'ORB', 'DRB', 'TRB', 'AST', 'STL', 'BLK',\n",
       "       'TOV', 'PF', 'PTS'],\n",
       "      dtype='object')"
      ]
     },
     "execution_count": 10,
     "metadata": {},
     "output_type": "execute_result"
    }
   ],
   "source": [
    "reg_def_filtered_df = reg_def_df.drop(columns=['Rk'])\n",
    "reg_def_filtered_df.columns"
   ]
  },
  {
   "cell_type": "code",
   "execution_count": 8,
   "metadata": {},
   "outputs": [
    {
     "data": {
      "text/plain": [
       "Index(['Team', 'Age', 'W', 'L', 'PW', 'PL', 'MOV', 'SOS', 'SRS', 'ORtg',\n",
       "       'DRtg', 'NRtg', 'Pace', 'FTr', '3PAr', 'TS%', 'eFG%', 'TOV%', 'ORB%',\n",
       "       'FT/FGA', 'Unnamed: 22', 'eFG%.1', 'TOV%.1', 'DRB%', 'FT/FGA.1',\n",
       "       'Attend./G'],\n",
       "      dtype='object')"
      ]
     },
     "execution_count": 8,
     "metadata": {},
     "output_type": "execute_result"
    }
   ],
   "source": [
    "reg_adv_filtered_df = reg_adv_df.drop(columns=['Rk', 'Unnamed: 17', 'Unnamed: 27', 'Arena', 'Attend.'])\n",
    "reg_adv_filtered_df.columns"
   ]
  },
  {
   "cell_type": "code",
   "execution_count": 12,
   "metadata": {},
   "outputs": [
    {
     "data": {
      "text/plain": [
       "Index(['Team', 'G', 'MP', 'FG', 'FGA', 'FG%', '3P', '3PA', '3P%', '2P', '2PA',\n",
       "       '2P%', 'FT', 'FTA', 'FT%', 'ORB', 'DRB', 'TRB', 'AST', 'STL', 'BLK',\n",
       "       'TOV', 'PF', 'PTS'],\n",
       "      dtype='object')"
      ]
     },
     "execution_count": 12,
     "metadata": {},
     "output_type": "execute_result"
    }
   ],
   "source": [
    "post_off_filtered_df = post_off_df.drop(columns=['Rk'])\n",
    "post_off_filtered_df.columns"
   ]
  },
  {
   "cell_type": "code",
   "execution_count": 14,
   "metadata": {},
   "outputs": [
    {
     "data": {
      "text/plain": [
       "Index(['Team', 'G', 'MP', 'FG', 'FGA', 'FG%', '3P', '3PA', '3P%', '2P', '2PA',\n",
       "       '2P%', 'FT', 'FTA', 'FT%', 'ORB', 'DRB', 'TRB', 'AST', 'STL', 'BLK',\n",
       "       'TOV', 'PF', 'PTS'],\n",
       "      dtype='object')"
      ]
     },
     "execution_count": 14,
     "metadata": {},
     "output_type": "execute_result"
    }
   ],
   "source": [
    "post_def_filtered_df = post_def_df.drop(columns=['Rk'])\n",
    "post_def_filtered_df.columns"
   ]
  },
  {
   "cell_type": "code",
   "execution_count": 16,
   "metadata": {},
   "outputs": [
    {
     "data": {
      "text/plain": [
       "Index(['Team', 'Age', 'W', 'L', 'W/L%', 'PW', 'PL', 'ORtg', 'DRtg', 'NRtg',\n",
       "       'Pace', 'FTr', '3PAr', 'TS%', 'eFG%', 'TOV%', 'ORB%', 'FT/FGA',\n",
       "       'eFG%.1', 'TOV%.1', 'DRB%', 'FT/FGA.1'],\n",
       "      dtype='object')"
      ]
     },
     "execution_count": 16,
     "metadata": {},
     "output_type": "execute_result"
    }
   ],
   "source": [
    "post_adv_filtered_df = post_adv_df.drop(columns=['Rk', 'Unnamed: 15', 'Unnamed: 20'])\n",
    "post_adv_filtered_df.columns"
   ]
  },
  {
   "cell_type": "code",
   "execution_count": 38,
   "metadata": {},
   "outputs": [
    {
     "data": {
      "text/plain": [
       "Index(['Unnamed: 0', 'Team', 'MP', 'Off_FG', 'Off_FGA', 'Off_FG%', 'Off_3P',\n",
       "       'Off_3PA', 'Off_3P%', 'Off_2P', 'Off_2PA', 'Off_2P%', 'Off_FT',\n",
       "       'Off_FTA', 'Off_FT%', 'Off_ORB', 'Off_DRB', 'Off_TRB', 'Off_AST',\n",
       "       'Off_STL', 'Off_BLK', 'Off_TOV', 'Off_PF', 'Off_PTS', 'Def_FG',\n",
       "       'Def_FGA', 'Def_FG%', 'Def_3P', 'Def_3PA', 'Def_3P%', 'Def_2P',\n",
       "       'Def_2PA', 'Def_2P%', 'Def_FT', 'Def_FTA', 'Def_FT%', 'Def_ORB',\n",
       "       'Def_DRB', 'Def_TRB', 'Def_AST', 'Def_STL', 'Def_BLK', 'Def_TOV',\n",
       "       'Def_PF', 'Def_PTS', 'Age', 'W', 'L', 'PW', 'PL', 'MOV', 'SOS', 'SRS',\n",
       "       'ORtg', 'DRtg', 'NRtg', 'Pace', 'FTr', '3PAr', 'TS%', 'Off_eFG%',\n",
       "       'Off_TOV%', 'Off_ORB%', 'Off_FT/FGA', 'Def_eFG%', 'Def_TOV%',\n",
       "       'Def_DRB%', 'Def_FT/FGA', 'Attend./G'],\n",
       "      dtype='object')"
      ]
     },
     "execution_count": 38,
     "metadata": {},
     "output_type": "execute_result"
    }
   ],
   "source": [
    "regular_season_df = pd.read_csv('nba_team_stats_data/nba_reg_compiled_stats.csv')\n",
    "regular_season_df.columns\n"
   ]
  },
  {
   "cell_type": "code",
   "execution_count": 39,
   "metadata": {},
   "outputs": [],
   "source": [
    "regular_season_df = regular_season_df.drop(['Unnamed: 0'],axis=1)\n",
    "regular_season_df.columns = regular_season_df.columns.str.lower()"
   ]
  },
  {
   "cell_type": "code",
   "execution_count": 40,
   "metadata": {},
   "outputs": [
    {
     "data": {
      "text/plain": [
       "Index(['team', 'mp', 'off_fg', 'off_fga', 'off_fg%', 'off_3p', 'off_3pa',\n",
       "       'off_3p%', 'off_2p', 'off_2pa', 'off_2p%', 'off_ft', 'off_fta',\n",
       "       'off_ft%', 'off_orb', 'off_drb', 'off_trb', 'off_ast', 'off_stl',\n",
       "       'off_blk', 'off_tov', 'off_pf', 'off_pts', 'def_fg', 'def_fga',\n",
       "       'def_fg%', 'def_3p', 'def_3pa', 'def_3p%', 'def_2p', 'def_2pa',\n",
       "       'def_2p%', 'def_ft', 'def_fta', 'def_ft%', 'def_orb', 'def_drb',\n",
       "       'def_trb', 'def_ast', 'def_stl', 'def_blk', 'def_tov', 'def_pf',\n",
       "       'def_pts', 'age', 'w', 'l', 'pw', 'pl', 'mov', 'sos', 'srs', 'ortg',\n",
       "       'drtg', 'nrtg', 'pace', 'ftr', '3par', 'ts%', 'off_efg%', 'off_tov%',\n",
       "       'off_orb%', 'off_ft/fga', 'def_efg%', 'def_tov%', 'def_drb%',\n",
       "       'def_ft/fga', 'attend./g'],\n",
       "      dtype='object')"
      ]
     },
     "execution_count": 40,
     "metadata": {},
     "output_type": "execute_result"
    }
   ],
   "source": [
    "regular_season_df.columns"
   ]
  },
  {
   "cell_type": "code",
   "execution_count": 41,
   "metadata": {},
   "outputs": [
    {
     "data": {
      "text/plain": [
       "Index(['team', 'mp', 'off_fg', 'off_fga', 'off_fg_percent', 'off_3p',\n",
       "       'off_3pa', 'off_3p_percent', 'off_2p', 'off_2pa', 'off_2p_percent',\n",
       "       'off_ft', 'off_fta', 'off_ft_percent', 'off_orb', 'off_drb', 'off_trb',\n",
       "       'off_ast', 'off_stl', 'off_blk', 'off_tov', 'off_pf', 'off_pts',\n",
       "       'def_fg', 'def_fga', 'def_fg_percent', 'def_3p', 'def_3pa',\n",
       "       'def_3p_percent', 'def_2p', 'def_2pa', 'def_2p_percent', 'def_ft',\n",
       "       'def_fta', 'def_ft_percent', 'def_orb', 'def_drb', 'def_trb', 'def_ast',\n",
       "       'def_stl', 'def_blk', 'def_tov', 'def_pf', 'def_pts', 'age', 'w', 'l',\n",
       "       'pw', 'pl', 'mov', 'sos', 'srs', 'ortg', 'drtg', 'nrtg', 'pace', 'ftr',\n",
       "       'three_par', 'ts_percent', 'off_efg_percent', 'off_tov_percent',\n",
       "       'off_orb_percent', 'off_ft_fga', 'def_efg_percent', 'def_tov_percent',\n",
       "       'def_drb_percent', 'def_ft_fga', 'attend_g'],\n",
       "      dtype='object')"
      ]
     },
     "execution_count": 41,
     "metadata": {},
     "output_type": "execute_result"
    }
   ],
   "source": [
    "\n",
    "regular_season_df = regular_season_df.rename(columns = {'off_fg%':'off_fg_percent','off_3p%':'off_3p_percent','off_2p%':'off_2p_percent','off_ft%':'off_ft_percent',\n",
    "                                     'def_fg%':'def_fg_percent','def_3p%':'def_3p_percent','def_2p%':'def_2p_percent',\n",
    "                                    'def_ft%':'def_ft_percent','w/l%':'w_l_percent','ts%':'ts_percent','off_efg%':'off_efg_percent',\n",
    "                                    'off_tov%':'off_tov_percent','off_orb%':'off_orb_percent','off_ft/fga':'off_ft_fga','def_efg%':'def_efg_percent',\n",
    "                                    'def_tov%':'def_tov_percent','def_drb%':'def_drb_percent','def_ft/fga':'def_ft_fga', '3par':'three_par',\n",
    "                                    'attend./g':'attend_g'})\n",
    "regular_season_df.columns"
   ]
  },
  {
   "cell_type": "code",
   "execution_count": 10,
   "metadata": {},
   "outputs": [
    {
     "data": {
      "text/plain": [
       "Index(['Unnamed: 0', 'Team', 'MP', 'Off_FG', 'Off_FGA', 'Off_FG%', 'Off_3P',\n",
       "       'Off_3PA', 'Off_3P%', 'Off_2P', 'Off_2PA', 'Off_2P%', 'Off_FT',\n",
       "       'Off_FTA', 'Off_FT%', 'Off_ORB', 'Off_DRB', 'Off_TRB', 'Off_AST',\n",
       "       'Off_STL', 'Off_BLK', 'Off_TOV', 'Off_PF', 'Off_PTS', 'Def_FG',\n",
       "       'Def_FGA', 'Def_FG%', 'Def_3P', 'Def_3PA', 'Def_3P%', 'Def_2P',\n",
       "       'Def_2PA', 'Def_2P%', 'Def_FT', 'Def_FTA', 'Def_FT%', 'Def_ORB',\n",
       "       'Def_DRB', 'Def_TRB', 'Def_AST', 'Def_STL', 'Def_BLK', 'Def_TOV',\n",
       "       'Def_PF', 'Def_PTS', 'Age', 'W', 'L', 'W/L%', 'PW', 'PL', 'ORtg',\n",
       "       'DRtg', 'NRtg', 'Pace', 'FTr', '3PAr', 'TS%', 'Off_eFG%', 'Off_TOV%',\n",
       "       'Off_ORB%', 'Off_FT/FGA', 'Def_eFG%', 'Def_TOV%', 'Def_DRB%',\n",
       "       'Def_FT/FGA'],\n",
       "      dtype='object')"
      ]
     },
     "execution_count": 10,
     "metadata": {},
     "output_type": "execute_result"
    }
   ],
   "source": [
    "\n",
    "post_season_df = pd.read_csv('nba_team_stats_data/nba_post_compiled_stats.csv')\n",
    "post_season_df.columns"
   ]
  },
  {
   "cell_type": "code",
   "execution_count": 11,
   "metadata": {},
   "outputs": [],
   "source": [
    "post_season_df = post_season_df.drop(['Unnamed: 0'],axis=1)\n",
    "post_season_df.columns = post_season_df.columns.str.lower()"
   ]
  },
  {
   "cell_type": "code",
   "execution_count": null,
   "metadata": {},
   "outputs": [],
   "source": [
    "{'off_fg%':'off_fg_percent','off_3p%':'off_3p_percent','off_2p%':'off_2p_percent','off_ft%':'off_ft_percent',\n",
    "                                     'def_fg%':'def_fg_percent','def_3p%':'def_3p_percent','def_2p%':'def_2p_percent',\n",
    "                                    'def_ft%':'def_ft_percent','w/l%':'w_l_percent','ts%':'ts_percent','off_efg%':'off_efg_percent',\n",
    "                                    'off_tov%':'off_tov_percent','off_orb%':'off_orb_percent','off_ft/fga':'off_ft_fga','def_efg%':'def_efg_percent',\n",
    "                                    'def_tov%':'def_tov_percent','def_drb%':'def_drb_percent','def_ft/fga':'def_ft_fga', '3par':'three_par',\n",
    "                                    'attend./g':'attend_g'})"
   ]
  },
  {
   "cell_type": "code",
   "execution_count": 12,
   "metadata": {},
   "outputs": [
    {
     "data": {
      "text/plain": [
       "Index(['team', 'mp', 'off_fg', 'off_fga', 'off_fg_percent', 'off_3p',\n",
       "       'off_3pa', 'off_3p_percent', 'off_2p', 'off_2pa', 'off_2p_percent',\n",
       "       'off_ft', 'off_fta', 'off_ft_percent', 'off_orb', 'off_drb', 'off_trb',\n",
       "       'off_ast', 'off_stl', 'off_blk', 'off_tov', 'off_pf', 'off_pts',\n",
       "       'def_fg', 'def_fga', 'def_fg_percent', 'def_3p', 'def_3pa',\n",
       "       'def_3p_percent', 'def_2p', 'def_2pa', 'def_2p_percent', 'def_ft',\n",
       "       'def_fta', 'def_ft_percent', 'def_orb', 'def_drb', 'def_trb', 'def_ast',\n",
       "       'def_stl', 'def_blk', 'def_tov', 'def_pf', 'def_pts', 'age', 'w', 'l',\n",
       "       'w_l_percent', 'pw', 'pl', 'ortg', 'drtg', 'nrtg', 'pace', 'ftr',\n",
       "       'three_par', 'ts_percent', 'off_efg_percent', 'off_tov_percent',\n",
       "       'off_orb_percent', 'off_ft_fga', 'def_efg_percent', 'def_tov_percent',\n",
       "       'def_drb_percent', 'def_ft_fga'],\n",
       "      dtype='object')"
      ]
     },
     "execution_count": 12,
     "metadata": {},
     "output_type": "execute_result"
    }
   ],
   "source": [
    "\n",
    "post_season_df = post_season_df.rename(columns = {'off_fg%':'off_fg_percent','off_3p%':'off_3p_percent','off_2p%':'off_2p_percent','off_ft%':'off_ft_percent',\n",
    "                                     'def_fg%':'def_fg_percent','def_3p%':'def_3p_percent','def_2p%':'def_2p_percent',\n",
    "                                    'def_ft%':'def_ft_percent','w/l%':'w_l_percent','ts%':'ts_percent','off_efg%':'off_efg_percent',\n",
    "                                    'off_tov%':'off_tov_percent','off_orb%':'off_orb_percent','off_ft/fga':'off_ft_fga','def_efg%':'def_efg_percent',\n",
    "                                    'def_tov%':'def_tov_percent','def_drb%':'def_drb_percent','def_ft/fga':'def_ft_fga','3par':'three_par',\n",
    "                                    'attend./g':'attend_g'})\n",
    "post_season_df.columns"
   ]
  },
  {
   "cell_type": "code",
   "execution_count": 13,
   "metadata": {},
   "outputs": [
    {
     "data": {
      "text/html": [
       "<div>\n",
       "<style scoped>\n",
       "    .dataframe tbody tr th:only-of-type {\n",
       "        vertical-align: middle;\n",
       "    }\n",
       "\n",
       "    .dataframe tbody tr th {\n",
       "        vertical-align: top;\n",
       "    }\n",
       "\n",
       "    .dataframe thead th {\n",
       "        text-align: right;\n",
       "    }\n",
       "</style>\n",
       "<table border=\"1\" class=\"dataframe\">\n",
       "  <thead>\n",
       "    <tr style=\"text-align: right;\">\n",
       "      <th></th>\n",
       "      <th>team_name</th>\n",
       "    </tr>\n",
       "  </thead>\n",
       "  <tbody>\n",
       "    <tr>\n",
       "      <th>0</th>\n",
       "      <td>Golden State Warriors</td>\n",
       "    </tr>\n",
       "    <tr>\n",
       "      <th>1</th>\n",
       "      <td>Memphis Grizzlies</td>\n",
       "    </tr>\n",
       "    <tr>\n",
       "      <th>2</th>\n",
       "      <td>Denver Nuggets</td>\n",
       "    </tr>\n",
       "    <tr>\n",
       "      <th>3</th>\n",
       "      <td>New Orleans Pelicans</td>\n",
       "    </tr>\n",
       "    <tr>\n",
       "      <th>4</th>\n",
       "      <td>Minnesota Timberwolves</td>\n",
       "    </tr>\n",
       "  </tbody>\n",
       "</table>\n",
       "</div>"
      ],
      "text/plain": [
       "                team_name\n",
       "0   Golden State Warriors\n",
       "1       Memphis Grizzlies\n",
       "2          Denver Nuggets\n",
       "3    New Orleans Pelicans\n",
       "4  Minnesota Timberwolves"
      ]
     },
     "execution_count": 13,
     "metadata": {},
     "output_type": "execute_result"
    }
   ],
   "source": [
    "teams_df = post_season_df[['team']]\n",
    "teams_df = teams_df.rename(columns = {'team':'team_name'})\n",
    "teams_df.head()"
   ]
  },
  {
   "cell_type": "code",
   "execution_count": 8,
   "metadata": {},
   "outputs": [
    {
     "data": {
      "text/html": [
       "<div>\n",
       "<style scoped>\n",
       "    .dataframe tbody tr th:only-of-type {\n",
       "        vertical-align: middle;\n",
       "    }\n",
       "\n",
       "    .dataframe tbody tr th {\n",
       "        vertical-align: top;\n",
       "    }\n",
       "\n",
       "    .dataframe thead th {\n",
       "        text-align: right;\n",
       "    }\n",
       "</style>\n",
       "<table border=\"1\" class=\"dataframe\">\n",
       "  <thead>\n",
       "    <tr style=\"text-align: right;\">\n",
       "      <th></th>\n",
       "      <th>team_name</th>\n",
       "      <th>abbreviation</th>\n",
       "    </tr>\n",
       "  </thead>\n",
       "  <tbody>\n",
       "    <tr>\n",
       "      <th>0</th>\n",
       "      <td>Minnesota Timberwolves</td>\n",
       "      <td>MIN</td>\n",
       "    </tr>\n",
       "    <tr>\n",
       "      <th>1</th>\n",
       "      <td>Memphis Grizzlies</td>\n",
       "      <td>MEM</td>\n",
       "    </tr>\n",
       "    <tr>\n",
       "      <th>2</th>\n",
       "      <td>Milwaukee Bucks</td>\n",
       "      <td>MIL</td>\n",
       "    </tr>\n",
       "    <tr>\n",
       "      <th>3</th>\n",
       "      <td>Charlotte Hornets</td>\n",
       "      <td>CHA</td>\n",
       "    </tr>\n",
       "    <tr>\n",
       "      <th>4</th>\n",
       "      <td>Phoenix Suns</td>\n",
       "      <td>PHX</td>\n",
       "    </tr>\n",
       "    <tr>\n",
       "      <th>5</th>\n",
       "      <td>Atlanta Hawks</td>\n",
       "      <td>ATL</td>\n",
       "    </tr>\n",
       "    <tr>\n",
       "      <th>6</th>\n",
       "      <td>Utah Jazz</td>\n",
       "      <td>UTA</td>\n",
       "    </tr>\n",
       "    <tr>\n",
       "      <th>7</th>\n",
       "      <td>San Antonio Spurs</td>\n",
       "      <td>SAS</td>\n",
       "    </tr>\n",
       "    <tr>\n",
       "      <th>8</th>\n",
       "      <td>Brooklyn Nets</td>\n",
       "      <td>BKN</td>\n",
       "    </tr>\n",
       "    <tr>\n",
       "      <th>9</th>\n",
       "      <td>Denver Nuggets</td>\n",
       "      <td>DEN</td>\n",
       "    </tr>\n",
       "    <tr>\n",
       "      <th>10</th>\n",
       "      <td>Los Angeles Lakers</td>\n",
       "      <td>LAL</td>\n",
       "    </tr>\n",
       "    <tr>\n",
       "      <th>11</th>\n",
       "      <td>Boston Celtics</td>\n",
       "      <td>BOS</td>\n",
       "    </tr>\n",
       "    <tr>\n",
       "      <th>12</th>\n",
       "      <td>Chicago Bulls</td>\n",
       "      <td>CHI</td>\n",
       "    </tr>\n",
       "    <tr>\n",
       "      <th>13</th>\n",
       "      <td>Indiana Pacers</td>\n",
       "      <td>IND</td>\n",
       "    </tr>\n",
       "    <tr>\n",
       "      <th>14</th>\n",
       "      <td>Golden State Warriors</td>\n",
       "      <td>GSW</td>\n",
       "    </tr>\n",
       "    <tr>\n",
       "      <th>15</th>\n",
       "      <td>Sacramento Kings</td>\n",
       "      <td>SAC</td>\n",
       "    </tr>\n",
       "    <tr>\n",
       "      <th>16</th>\n",
       "      <td>Miami Heat</td>\n",
       "      <td>MIA</td>\n",
       "    </tr>\n",
       "    <tr>\n",
       "      <th>17</th>\n",
       "      <td>Philadelphia 76ers</td>\n",
       "      <td>PHI</td>\n",
       "    </tr>\n",
       "    <tr>\n",
       "      <th>18</th>\n",
       "      <td>Houston Rockets</td>\n",
       "      <td>HOU</td>\n",
       "    </tr>\n",
       "    <tr>\n",
       "      <th>19</th>\n",
       "      <td>Toronto Raptors</td>\n",
       "      <td>TOR</td>\n",
       "    </tr>\n",
       "    <tr>\n",
       "      <th>20</th>\n",
       "      <td>New Orleans Pelicans</td>\n",
       "      <td>NOP</td>\n",
       "    </tr>\n",
       "    <tr>\n",
       "      <th>21</th>\n",
       "      <td>Washington Wizards</td>\n",
       "      <td>WAS</td>\n",
       "    </tr>\n",
       "    <tr>\n",
       "      <th>22</th>\n",
       "      <td>Los Angeles Clippers</td>\n",
       "      <td>LAC</td>\n",
       "    </tr>\n",
       "    <tr>\n",
       "      <th>23</th>\n",
       "      <td>Dallas Mavericks</td>\n",
       "      <td>DAL</td>\n",
       "    </tr>\n",
       "    <tr>\n",
       "      <th>24</th>\n",
       "      <td>Cleveland Cavaliers</td>\n",
       "      <td>CLE</td>\n",
       "    </tr>\n",
       "    <tr>\n",
       "      <th>25</th>\n",
       "      <td>New York Knicks</td>\n",
       "      <td>NYK</td>\n",
       "    </tr>\n",
       "    <tr>\n",
       "      <th>26</th>\n",
       "      <td>Portland Trail Blazers</td>\n",
       "      <td>POR</td>\n",
       "    </tr>\n",
       "    <tr>\n",
       "      <th>27</th>\n",
       "      <td>Detroit Pistons</td>\n",
       "      <td>DET</td>\n",
       "    </tr>\n",
       "    <tr>\n",
       "      <th>28</th>\n",
       "      <td>Orlando Magic</td>\n",
       "      <td>ORL</td>\n",
       "    </tr>\n",
       "    <tr>\n",
       "      <th>29</th>\n",
       "      <td>Oklahoma City Thunder</td>\n",
       "      <td>OKC</td>\n",
       "    </tr>\n",
       "  </tbody>\n",
       "</table>\n",
       "</div>"
      ],
      "text/plain": [
       "                 team_name abbreviation\n",
       "0   Minnesota Timberwolves          MIN\n",
       "1        Memphis Grizzlies          MEM\n",
       "2          Milwaukee Bucks          MIL\n",
       "3        Charlotte Hornets          CHA\n",
       "4             Phoenix Suns          PHX\n",
       "5            Atlanta Hawks          ATL\n",
       "6                Utah Jazz          UTA\n",
       "7        San Antonio Spurs          SAS\n",
       "8            Brooklyn Nets          BKN\n",
       "9           Denver Nuggets          DEN\n",
       "10      Los Angeles Lakers          LAL\n",
       "11          Boston Celtics          BOS\n",
       "12           Chicago Bulls          CHI\n",
       "13          Indiana Pacers          IND\n",
       "14   Golden State Warriors          GSW\n",
       "15        Sacramento Kings          SAC\n",
       "16              Miami Heat          MIA\n",
       "17      Philadelphia 76ers          PHI\n",
       "18         Houston Rockets          HOU\n",
       "19         Toronto Raptors          TOR\n",
       "20    New Orleans Pelicans          NOP\n",
       "21      Washington Wizards          WAS\n",
       "22    Los Angeles Clippers          LAC\n",
       "23        Dallas Mavericks          DAL\n",
       "24     Cleveland Cavaliers          CLE\n",
       "25         New York Knicks          NYK\n",
       "26  Portland Trail Blazers          POR\n",
       "27         Detroit Pistons          DET\n",
       "28           Orlando Magic          ORL\n",
       "29   Oklahoma City Thunder          OKC"
      ]
     },
     "execution_count": 8,
     "metadata": {},
     "output_type": "execute_result"
    }
   ],
   "source": [
    "team_names_series = regular_season_df[\"team\"]\n",
    "\n",
    "team_abbv = [\"MIN\", \"MEM\", \"MIL\", \"CHA\", \"PHX\", \"ATL\", \"UTA\", \"SAS\", \"BKN\", \"DEN\", \"LAL\", \"BOS\", \"CHI\", \"IND\", \"GSW\", \"SAC\", \"MIA\", \"PHI\", \"HOU\", \"TOR\", \"NOP\", \"WAS\", \"LAC\", \"DAL\", \"CLE\", \"NYK\", \"POR\", \"DET\", \"ORL\", \"OKC\"]\n",
    "team_abbv_series = pd.Series(team_abbv)\n",
    "\n",
    "frame = { 'team_name': team_names_series, 'abbreviation': team_abbv_series }\n",
    "\n",
    "name_abbv = pd.DataFrame(frame)\n",
    "\n",
    "name_abbv"
   ]
  },
  {
   "cell_type": "code",
   "execution_count": 6,
   "metadata": {},
   "outputs": [],
   "source": [
    "from pprint import pprint\n",
    "from sqlalchemy import create_engine"
   ]
  },
  {
   "cell_type": "code",
   "execution_count": 7,
   "metadata": {},
   "outputs": [],
   "source": [
    "rds_connection_string = \"postgres:admin@localhost:5432/group_2_project_4\"\n",
    "engine = create_engine(f'postgresql://{rds_connection_string}')"
   ]
  },
  {
   "cell_type": "code",
   "execution_count": 8,
   "metadata": {},
   "outputs": [
    {
     "name": "stderr",
     "output_type": "stream",
     "text": [
      "/var/folders/4s/j3_l93ts54qgnyg57c9s590m0000gn/T/ipykernel_6540/4162273999.py:1: SADeprecationWarning: The Engine.table_names() method is deprecated and will be removed in a future release.  Please refer to Inspector.get_table_names(). (deprecated since: 1.4)\n",
      "  engine.table_names()\n"
     ]
    },
    {
     "data": {
      "text/plain": [
       "['teams', 'reg_season_stats', 'post_season_stats']"
      ]
     },
     "execution_count": 8,
     "metadata": {},
     "output_type": "execute_result"
    }
   ],
   "source": [
    "engine.table_names()"
   ]
  },
  {
   "cell_type": "code",
   "execution_count": 20,
   "metadata": {},
   "outputs": [],
   "source": [
    "name_abbv.to_sql(name='teams', con=engine, if_exists='append', index=False)"
   ]
  },
  {
   "cell_type": "code",
   "execution_count": 21,
   "metadata": {},
   "outputs": [
    {
     "data": {
      "text/html": [
       "<div>\n",
       "<style scoped>\n",
       "    .dataframe tbody tr th:only-of-type {\n",
       "        vertical-align: middle;\n",
       "    }\n",
       "\n",
       "    .dataframe tbody tr th {\n",
       "        vertical-align: top;\n",
       "    }\n",
       "\n",
       "    .dataframe thead th {\n",
       "        text-align: right;\n",
       "    }\n",
       "</style>\n",
       "<table border=\"1\" class=\"dataframe\">\n",
       "  <thead>\n",
       "    <tr style=\"text-align: right;\">\n",
       "      <th></th>\n",
       "      <th>team_name</th>\n",
       "      <th>abbreviation</th>\n",
       "    </tr>\n",
       "  </thead>\n",
       "  <tbody>\n",
       "    <tr>\n",
       "      <th>0</th>\n",
       "      <td>Minnesota Timberwolves</td>\n",
       "      <td>MIN</td>\n",
       "    </tr>\n",
       "    <tr>\n",
       "      <th>1</th>\n",
       "      <td>Memphis Grizzlies</td>\n",
       "      <td>MEM</td>\n",
       "    </tr>\n",
       "    <tr>\n",
       "      <th>2</th>\n",
       "      <td>Milwaukee Bucks</td>\n",
       "      <td>MIL</td>\n",
       "    </tr>\n",
       "    <tr>\n",
       "      <th>3</th>\n",
       "      <td>Charlotte Hornets</td>\n",
       "      <td>CHA</td>\n",
       "    </tr>\n",
       "    <tr>\n",
       "      <th>4</th>\n",
       "      <td>Phoenix Suns</td>\n",
       "      <td>PHX</td>\n",
       "    </tr>\n",
       "  </tbody>\n",
       "</table>\n",
       "</div>"
      ],
      "text/plain": [
       "                team_name abbreviation\n",
       "0  Minnesota Timberwolves          MIN\n",
       "1       Memphis Grizzlies          MEM\n",
       "2         Milwaukee Bucks          MIL\n",
       "3       Charlotte Hornets          CHA\n",
       "4            Phoenix Suns          PHX"
      ]
     },
     "execution_count": 21,
     "metadata": {},
     "output_type": "execute_result"
    }
   ],
   "source": [
    "pd.read_sql_query('select * from teams', con=engine).head()"
   ]
  },
  {
   "cell_type": "code",
   "execution_count": 42,
   "metadata": {},
   "outputs": [],
   "source": [
    "regular_season_df.to_sql(name='reg_season_stats', con=engine, if_exists='append', index=False)"
   ]
  },
  {
   "cell_type": "code",
   "execution_count": 43,
   "metadata": {},
   "outputs": [
    {
     "data": {
      "text/html": [
       "<div>\n",
       "<style scoped>\n",
       "    .dataframe tbody tr th:only-of-type {\n",
       "        vertical-align: middle;\n",
       "    }\n",
       "\n",
       "    .dataframe tbody tr th {\n",
       "        vertical-align: top;\n",
       "    }\n",
       "\n",
       "    .dataframe thead th {\n",
       "        text-align: right;\n",
       "    }\n",
       "</style>\n",
       "<table border=\"1\" class=\"dataframe\">\n",
       "  <thead>\n",
       "    <tr style=\"text-align: right;\">\n",
       "      <th></th>\n",
       "      <th>team</th>\n",
       "      <th>mp</th>\n",
       "      <th>off_fg</th>\n",
       "      <th>off_fga</th>\n",
       "      <th>off_fg_percent</th>\n",
       "      <th>off_3p</th>\n",
       "      <th>off_3pa</th>\n",
       "      <th>off_3p_percent</th>\n",
       "      <th>off_2p</th>\n",
       "      <th>off_2pa</th>\n",
       "      <th>...</th>\n",
       "      <th>ts_percent</th>\n",
       "      <th>off_efg_percent</th>\n",
       "      <th>off_tov_percent</th>\n",
       "      <th>off_orb_percent</th>\n",
       "      <th>off_ft_fga</th>\n",
       "      <th>def_efg_percent</th>\n",
       "      <th>def_tov_percent</th>\n",
       "      <th>def_drb_percent</th>\n",
       "      <th>def_ft_fga</th>\n",
       "      <th>attend_g</th>\n",
       "    </tr>\n",
       "  </thead>\n",
       "  <tbody>\n",
       "    <tr>\n",
       "      <th>0</th>\n",
       "      <td>Minnesota Timberwolves</td>\n",
       "      <td>241</td>\n",
       "      <td>42</td>\n",
       "      <td>91</td>\n",
       "      <td>0</td>\n",
       "      <td>15</td>\n",
       "      <td>41</td>\n",
       "      <td>0</td>\n",
       "      <td>27</td>\n",
       "      <td>50</td>\n",
       "      <td>...</td>\n",
       "      <td>1</td>\n",
       "      <td>1</td>\n",
       "      <td>12</td>\n",
       "      <td>24</td>\n",
       "      <td>0</td>\n",
       "      <td>1</td>\n",
       "      <td>14</td>\n",
       "      <td>75</td>\n",
       "      <td>0</td>\n",
       "      <td>16028</td>\n",
       "    </tr>\n",
       "    <tr>\n",
       "      <th>1</th>\n",
       "      <td>Memphis Grizzlies</td>\n",
       "      <td>241</td>\n",
       "      <td>44</td>\n",
       "      <td>94</td>\n",
       "      <td>0</td>\n",
       "      <td>12</td>\n",
       "      <td>33</td>\n",
       "      <td>0</td>\n",
       "      <td>32</td>\n",
       "      <td>62</td>\n",
       "      <td>...</td>\n",
       "      <td>1</td>\n",
       "      <td>1</td>\n",
       "      <td>11</td>\n",
       "      <td>30</td>\n",
       "      <td>0</td>\n",
       "      <td>1</td>\n",
       "      <td>13</td>\n",
       "      <td>78</td>\n",
       "      <td>0</td>\n",
       "      <td>15775</td>\n",
       "    </tr>\n",
       "    <tr>\n",
       "      <th>2</th>\n",
       "      <td>Milwaukee Bucks</td>\n",
       "      <td>241</td>\n",
       "      <td>42</td>\n",
       "      <td>89</td>\n",
       "      <td>0</td>\n",
       "      <td>14</td>\n",
       "      <td>38</td>\n",
       "      <td>0</td>\n",
       "      <td>28</td>\n",
       "      <td>51</td>\n",
       "      <td>...</td>\n",
       "      <td>1</td>\n",
       "      <td>1</td>\n",
       "      <td>12</td>\n",
       "      <td>23</td>\n",
       "      <td>0</td>\n",
       "      <td>1</td>\n",
       "      <td>12</td>\n",
       "      <td>79</td>\n",
       "      <td>0</td>\n",
       "      <td>17453</td>\n",
       "    </tr>\n",
       "    <tr>\n",
       "      <th>3</th>\n",
       "      <td>Charlotte Hornets</td>\n",
       "      <td>242</td>\n",
       "      <td>43</td>\n",
       "      <td>91</td>\n",
       "      <td>0</td>\n",
       "      <td>14</td>\n",
       "      <td>38</td>\n",
       "      <td>0</td>\n",
       "      <td>29</td>\n",
       "      <td>53</td>\n",
       "      <td>...</td>\n",
       "      <td>1</td>\n",
       "      <td>1</td>\n",
       "      <td>12</td>\n",
       "      <td>23</td>\n",
       "      <td>0</td>\n",
       "      <td>1</td>\n",
       "      <td>13</td>\n",
       "      <td>75</td>\n",
       "      <td>0</td>\n",
       "      <td>17092</td>\n",
       "    </tr>\n",
       "    <tr>\n",
       "      <th>4</th>\n",
       "      <td>Phoenix Suns</td>\n",
       "      <td>241</td>\n",
       "      <td>44</td>\n",
       "      <td>90</td>\n",
       "      <td>0</td>\n",
       "      <td>12</td>\n",
       "      <td>32</td>\n",
       "      <td>0</td>\n",
       "      <td>32</td>\n",
       "      <td>58</td>\n",
       "      <td>...</td>\n",
       "      <td>1</td>\n",
       "      <td>1</td>\n",
       "      <td>12</td>\n",
       "      <td>22</td>\n",
       "      <td>0</td>\n",
       "      <td>1</td>\n",
       "      <td>13</td>\n",
       "      <td>77</td>\n",
       "      <td>0</td>\n",
       "      <td>16175</td>\n",
       "    </tr>\n",
       "  </tbody>\n",
       "</table>\n",
       "<p>5 rows × 69 columns</p>\n",
       "</div>"
      ],
      "text/plain": [
       "                     team   mp  off_fg  off_fga  off_fg_percent  off_3p  \\\n",
       "0  Minnesota Timberwolves  241      42       91               0      15   \n",
       "1       Memphis Grizzlies  241      44       94               0      12   \n",
       "2         Milwaukee Bucks  241      42       89               0      14   \n",
       "3       Charlotte Hornets  242      43       91               0      14   \n",
       "4            Phoenix Suns  241      44       90               0      12   \n",
       "\n",
       "   off_3pa  off_3p_percent  off_2p  off_2pa  ...  ts_percent  off_efg_percent  \\\n",
       "0       41               0      27       50  ...           1                1   \n",
       "1       33               0      32       62  ...           1                1   \n",
       "2       38               0      28       51  ...           1                1   \n",
       "3       38               0      29       53  ...           1                1   \n",
       "4       32               0      32       58  ...           1                1   \n",
       "\n",
       "   off_tov_percent  off_orb_percent  off_ft_fga  def_efg_percent  \\\n",
       "0               12               24           0                1   \n",
       "1               11               30           0                1   \n",
       "2               12               23           0                1   \n",
       "3               12               23           0                1   \n",
       "4               12               22           0                1   \n",
       "\n",
       "   def_tov_percent  def_drb_percent  def_ft_fga  attend_g  \n",
       "0               14               75           0     16028  \n",
       "1               13               78           0     15775  \n",
       "2               12               79           0     17453  \n",
       "3               13               75           0     17092  \n",
       "4               13               77           0     16175  \n",
       "\n",
       "[5 rows x 69 columns]"
      ]
     },
     "execution_count": 43,
     "metadata": {},
     "output_type": "execute_result"
    }
   ],
   "source": [
    "pd.read_sql_query('select * from reg_season_stats', con=engine).head()"
   ]
  },
  {
   "cell_type": "code",
   "execution_count": 14,
   "metadata": {},
   "outputs": [],
   "source": [
    "post_season_df.to_sql(name='post_season_stats', con=engine, if_exists='append', index=False)"
   ]
  },
  {
   "cell_type": "code",
   "execution_count": 15,
   "metadata": {},
   "outputs": [
    {
     "data": {
      "text/html": [
       "<div>\n",
       "<style scoped>\n",
       "    .dataframe tbody tr th:only-of-type {\n",
       "        vertical-align: middle;\n",
       "    }\n",
       "\n",
       "    .dataframe tbody tr th {\n",
       "        vertical-align: top;\n",
       "    }\n",
       "\n",
       "    .dataframe thead th {\n",
       "        text-align: right;\n",
       "    }\n",
       "</style>\n",
       "<table border=\"1\" class=\"dataframe\">\n",
       "  <thead>\n",
       "    <tr style=\"text-align: right;\">\n",
       "      <th></th>\n",
       "      <th>team</th>\n",
       "      <th>mp</th>\n",
       "      <th>off_fg</th>\n",
       "      <th>off_fga</th>\n",
       "      <th>off_fg_percent</th>\n",
       "      <th>off_3p</th>\n",
       "      <th>off_3pa</th>\n",
       "      <th>off_3p_percent</th>\n",
       "      <th>off_2p</th>\n",
       "      <th>off_2pa</th>\n",
       "      <th>...</th>\n",
       "      <th>ts_percent</th>\n",
       "      <th>off_efg_percent</th>\n",
       "      <th>off_tov_percent</th>\n",
       "      <th>off_orb_percent</th>\n",
       "      <th>off_ft_fga</th>\n",
       "      <th>def_efg_percent</th>\n",
       "      <th>def_tov_percent</th>\n",
       "      <th>def_drb_percent</th>\n",
       "      <th>def_ft_fga</th>\n",
       "      <th>attend_g</th>\n",
       "    </tr>\n",
       "  </thead>\n",
       "  <tbody>\n",
       "    <tr>\n",
       "      <th>0</th>\n",
       "      <td>Golden State Warriors</td>\n",
       "      <td>240</td>\n",
       "      <td>42</td>\n",
       "      <td>86</td>\n",
       "      <td>0</td>\n",
       "      <td>14</td>\n",
       "      <td>36</td>\n",
       "      <td>0</td>\n",
       "      <td>28</td>\n",
       "      <td>50</td>\n",
       "      <td>...</td>\n",
       "      <td>1</td>\n",
       "      <td>1</td>\n",
       "      <td>13</td>\n",
       "      <td>24</td>\n",
       "      <td>0</td>\n",
       "      <td>1</td>\n",
       "      <td>12</td>\n",
       "      <td>78</td>\n",
       "      <td>0</td>\n",
       "      <td>None</td>\n",
       "    </tr>\n",
       "    <tr>\n",
       "      <th>1</th>\n",
       "      <td>Memphis Grizzlies</td>\n",
       "      <td>240</td>\n",
       "      <td>40</td>\n",
       "      <td>91</td>\n",
       "      <td>0</td>\n",
       "      <td>13</td>\n",
       "      <td>36</td>\n",
       "      <td>0</td>\n",
       "      <td>27</td>\n",
       "      <td>56</td>\n",
       "      <td>...</td>\n",
       "      <td>1</td>\n",
       "      <td>1</td>\n",
       "      <td>12</td>\n",
       "      <td>26</td>\n",
       "      <td>0</td>\n",
       "      <td>1</td>\n",
       "      <td>16</td>\n",
       "      <td>78</td>\n",
       "      <td>0</td>\n",
       "      <td>None</td>\n",
       "    </tr>\n",
       "    <tr>\n",
       "      <th>2</th>\n",
       "      <td>Denver Nuggets</td>\n",
       "      <td>240</td>\n",
       "      <td>39</td>\n",
       "      <td>83</td>\n",
       "      <td>0</td>\n",
       "      <td>11</td>\n",
       "      <td>31</td>\n",
       "      <td>0</td>\n",
       "      <td>28</td>\n",
       "      <td>51</td>\n",
       "      <td>...</td>\n",
       "      <td>1</td>\n",
       "      <td>1</td>\n",
       "      <td>15</td>\n",
       "      <td>28</td>\n",
       "      <td>0</td>\n",
       "      <td>1</td>\n",
       "      <td>12</td>\n",
       "      <td>81</td>\n",
       "      <td>0</td>\n",
       "      <td>None</td>\n",
       "    </tr>\n",
       "    <tr>\n",
       "      <th>3</th>\n",
       "      <td>New Orleans Pelicans</td>\n",
       "      <td>240</td>\n",
       "      <td>39</td>\n",
       "      <td>84</td>\n",
       "      <td>0</td>\n",
       "      <td>9</td>\n",
       "      <td>26</td>\n",
       "      <td>0</td>\n",
       "      <td>30</td>\n",
       "      <td>58</td>\n",
       "      <td>...</td>\n",
       "      <td>1</td>\n",
       "      <td>1</td>\n",
       "      <td>13</td>\n",
       "      <td>35</td>\n",
       "      <td>0</td>\n",
       "      <td>1</td>\n",
       "      <td>11</td>\n",
       "      <td>80</td>\n",
       "      <td>0</td>\n",
       "      <td>None</td>\n",
       "    </tr>\n",
       "    <tr>\n",
       "      <th>4</th>\n",
       "      <td>Minnesota Timberwolves</td>\n",
       "      <td>240</td>\n",
       "      <td>36</td>\n",
       "      <td>82</td>\n",
       "      <td>0</td>\n",
       "      <td>14</td>\n",
       "      <td>36</td>\n",
       "      <td>0</td>\n",
       "      <td>23</td>\n",
       "      <td>46</td>\n",
       "      <td>...</td>\n",
       "      <td>1</td>\n",
       "      <td>1</td>\n",
       "      <td>16</td>\n",
       "      <td>17</td>\n",
       "      <td>0</td>\n",
       "      <td>1</td>\n",
       "      <td>14</td>\n",
       "      <td>73</td>\n",
       "      <td>0</td>\n",
       "      <td>None</td>\n",
       "    </tr>\n",
       "  </tbody>\n",
       "</table>\n",
       "<p>5 rows × 69 columns</p>\n",
       "</div>"
      ],
      "text/plain": [
       "                     team   mp  off_fg  off_fga  off_fg_percent  off_3p  \\\n",
       "0   Golden State Warriors  240      42       86               0      14   \n",
       "1       Memphis Grizzlies  240      40       91               0      13   \n",
       "2          Denver Nuggets  240      39       83               0      11   \n",
       "3    New Orleans Pelicans  240      39       84               0       9   \n",
       "4  Minnesota Timberwolves  240      36       82               0      14   \n",
       "\n",
       "   off_3pa  off_3p_percent  off_2p  off_2pa  ...  ts_percent  off_efg_percent  \\\n",
       "0       36               0      28       50  ...           1                1   \n",
       "1       36               0      27       56  ...           1                1   \n",
       "2       31               0      28       51  ...           1                1   \n",
       "3       26               0      30       58  ...           1                1   \n",
       "4       36               0      23       46  ...           1                1   \n",
       "\n",
       "   off_tov_percent  off_orb_percent  off_ft_fga  def_efg_percent  \\\n",
       "0               13               24           0                1   \n",
       "1               12               26           0                1   \n",
       "2               15               28           0                1   \n",
       "3               13               35           0                1   \n",
       "4               16               17           0                1   \n",
       "\n",
       "   def_tov_percent  def_drb_percent  def_ft_fga  attend_g  \n",
       "0               12               78           0      None  \n",
       "1               16               78           0      None  \n",
       "2               12               81           0      None  \n",
       "3               11               80           0      None  \n",
       "4               14               73           0      None  \n",
       "\n",
       "[5 rows x 69 columns]"
      ]
     },
     "execution_count": 15,
     "metadata": {},
     "output_type": "execute_result"
    }
   ],
   "source": [
    "pd.read_sql_query('select * from post_season_stats', con=engine).head()"
   ]
  },
  {
   "cell_type": "code",
   "execution_count": null,
   "metadata": {},
   "outputs": [],
   "source": []
  }
 ],
 "metadata": {
  "interpreter": {
   "hash": "3067ead486e059ec00ffe7555bdb889e6e264a24dc711bf108106cc7baee8d5d"
  },
  "kernelspec": {
   "display_name": "Python 3 (ipykernel)",
   "language": "python",
   "name": "python3"
  },
  "language_info": {
   "codemirror_mode": {
    "name": "ipython",
    "version": 3
   },
   "file_extension": ".py",
   "mimetype": "text/x-python",
   "name": "python",
   "nbconvert_exporter": "python",
   "pygments_lexer": "ipython3",
   "version": "3.9.7"
  }
 },
 "nbformat": 4,
 "nbformat_minor": 4
}
