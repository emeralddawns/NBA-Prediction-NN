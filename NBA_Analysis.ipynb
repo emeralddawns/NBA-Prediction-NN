{
 "cells": [
  {
   "cell_type": "markdown",
   "metadata": {
    "tags": []
   },
   "source": [
    "# Optimize the Model\n",
    "\n",
    "Achieve a target predictive accuracy higher than 75% by using \"any or all\" of the following:\n",
    "\n",
    "1) Adjusting the input data to ensure that there are no variables or outliers that are causing confusion in the model, such as:\n",
    "    \n",
    "    Dropping more or fewer columns.\n",
    "    \n",
    "    Creating more bins for rare occurrences in columns.\n",
    "    \n",
    "    Increasing or decreasing the number of values for each bin.\n",
    "\n",
    "2) Adding more neurons to a hidden layer.\n",
    "3) Adding more hidden layers.\n",
    "4) Using different activation functions for the hidden layers.\n",
    "5) Adding or reducing the number of epochs to the training regimen."
   ]
  },
  {
   "cell_type": "markdown",
   "metadata": {},
   "source": [
    "Current Parameters:"
   ]
  },
  {
   "cell_type": "code",
   "execution_count": 1,
   "metadata": {},
   "outputs": [],
   "source": [
    "# Cutoffs\n",
    "name_cutoff = 10\n",
    "application_cutoff = 200 # Original: 200, Applications types with less than this number will be added to a combined type\n",
    "classification_cutoff = 1000 # Original: 1000, Classification types with less than this number will be added to a combined type\n",
    "\n",
    "# Number of Neurons\n",
    "neurons_1 = 27  # Original: 80\n",
    "neurons_2 = 5  # Original: 30\n",
    "neurons_3 = 3\n",
    "neurons_4 = 7\n",
    "\n",
    "# Activation Types\n",
    "activation_1 = \"relu\" # Original: \"relu\"\n",
    "activation_2 = \"sigmoid\" # Original: \"relu\"\n",
    "activation_3 = \"sigmoid\"\n",
    "activation_4 = \"sigmoid\"\n",
    "activation_outer = \"sigmoid\" # Original: \"sigmoid\"\n",
    "\n",
    "#Number of Epochs\n",
    "num_epochs = 20 # Original: 50"
   ]
  },
  {
   "cell_type": "markdown",
   "metadata": {},
   "source": [
    "# Preprocessing"
   ]
  },
  {
   "cell_type": "code",
   "execution_count": 2,
   "metadata": {},
   "outputs": [
    {
     "data": {
      "text/html": [
       "<div>\n",
       "<style scoped>\n",
       "    .dataframe tbody tr th:only-of-type {\n",
       "        vertical-align: middle;\n",
       "    }\n",
       "\n",
       "    .dataframe tbody tr th {\n",
       "        vertical-align: top;\n",
       "    }\n",
       "\n",
       "    .dataframe thead th {\n",
       "        text-align: right;\n",
       "    }\n",
       "</style>\n",
       "<table border=\"1\" class=\"dataframe\">\n",
       "  <thead>\n",
       "    <tr style=\"text-align: right;\">\n",
       "      <th></th>\n",
       "      <th>EIN</th>\n",
       "      <th>NAME</th>\n",
       "      <th>APPLICATION_TYPE</th>\n",
       "      <th>AFFILIATION</th>\n",
       "      <th>CLASSIFICATION</th>\n",
       "      <th>USE_CASE</th>\n",
       "      <th>ORGANIZATION</th>\n",
       "      <th>STATUS</th>\n",
       "      <th>INCOME_AMT</th>\n",
       "      <th>SPECIAL_CONSIDERATIONS</th>\n",
       "      <th>ASK_AMT</th>\n",
       "      <th>IS_SUCCESSFUL</th>\n",
       "    </tr>\n",
       "  </thead>\n",
       "  <tbody>\n",
       "    <tr>\n",
       "      <th>0</th>\n",
       "      <td>10520599</td>\n",
       "      <td>BLUE KNIGHTS MOTORCYCLE CLUB</td>\n",
       "      <td>T10</td>\n",
       "      <td>Independent</td>\n",
       "      <td>C1000</td>\n",
       "      <td>ProductDev</td>\n",
       "      <td>Association</td>\n",
       "      <td>1</td>\n",
       "      <td>0</td>\n",
       "      <td>N</td>\n",
       "      <td>5000</td>\n",
       "      <td>1</td>\n",
       "    </tr>\n",
       "    <tr>\n",
       "      <th>1</th>\n",
       "      <td>10531628</td>\n",
       "      <td>AMERICAN CHESAPEAKE CLUB CHARITABLE TR</td>\n",
       "      <td>T3</td>\n",
       "      <td>Independent</td>\n",
       "      <td>C2000</td>\n",
       "      <td>Preservation</td>\n",
       "      <td>Co-operative</td>\n",
       "      <td>1</td>\n",
       "      <td>1-9999</td>\n",
       "      <td>N</td>\n",
       "      <td>108590</td>\n",
       "      <td>1</td>\n",
       "    </tr>\n",
       "    <tr>\n",
       "      <th>2</th>\n",
       "      <td>10547893</td>\n",
       "      <td>ST CLOUD PROFESSIONAL FIREFIGHTERS</td>\n",
       "      <td>T5</td>\n",
       "      <td>CompanySponsored</td>\n",
       "      <td>C3000</td>\n",
       "      <td>ProductDev</td>\n",
       "      <td>Association</td>\n",
       "      <td>1</td>\n",
       "      <td>0</td>\n",
       "      <td>N</td>\n",
       "      <td>5000</td>\n",
       "      <td>0</td>\n",
       "    </tr>\n",
       "    <tr>\n",
       "      <th>3</th>\n",
       "      <td>10553066</td>\n",
       "      <td>SOUTHSIDE ATHLETIC ASSOCIATION</td>\n",
       "      <td>T3</td>\n",
       "      <td>CompanySponsored</td>\n",
       "      <td>C2000</td>\n",
       "      <td>Preservation</td>\n",
       "      <td>Trust</td>\n",
       "      <td>1</td>\n",
       "      <td>10000-24999</td>\n",
       "      <td>N</td>\n",
       "      <td>6692</td>\n",
       "      <td>1</td>\n",
       "    </tr>\n",
       "    <tr>\n",
       "      <th>4</th>\n",
       "      <td>10556103</td>\n",
       "      <td>GENETIC RESEARCH INSTITUTE OF THE DESERT</td>\n",
       "      <td>T3</td>\n",
       "      <td>Independent</td>\n",
       "      <td>C1000</td>\n",
       "      <td>Heathcare</td>\n",
       "      <td>Trust</td>\n",
       "      <td>1</td>\n",
       "      <td>100000-499999</td>\n",
       "      <td>N</td>\n",
       "      <td>142590</td>\n",
       "      <td>1</td>\n",
       "    </tr>\n",
       "  </tbody>\n",
       "</table>\n",
       "</div>"
      ],
      "text/plain": [
       "        EIN                                      NAME APPLICATION_TYPE  \\\n",
       "0  10520599              BLUE KNIGHTS MOTORCYCLE CLUB              T10   \n",
       "1  10531628    AMERICAN CHESAPEAKE CLUB CHARITABLE TR               T3   \n",
       "2  10547893        ST CLOUD PROFESSIONAL FIREFIGHTERS               T5   \n",
       "3  10553066            SOUTHSIDE ATHLETIC ASSOCIATION               T3   \n",
       "4  10556103  GENETIC RESEARCH INSTITUTE OF THE DESERT               T3   \n",
       "\n",
       "        AFFILIATION CLASSIFICATION      USE_CASE  ORGANIZATION  STATUS  \\\n",
       "0       Independent          C1000    ProductDev   Association       1   \n",
       "1       Independent          C2000  Preservation  Co-operative       1   \n",
       "2  CompanySponsored          C3000    ProductDev   Association       1   \n",
       "3  CompanySponsored          C2000  Preservation         Trust       1   \n",
       "4       Independent          C1000     Heathcare         Trust       1   \n",
       "\n",
       "      INCOME_AMT SPECIAL_CONSIDERATIONS  ASK_AMT  IS_SUCCESSFUL  \n",
       "0              0                      N     5000              1  \n",
       "1         1-9999                      N   108590              1  \n",
       "2              0                      N     5000              0  \n",
       "3    10000-24999                      N     6692              1  \n",
       "4  100000-499999                      N   142590              1  "
      ]
     },
     "execution_count": 2,
     "metadata": {},
     "output_type": "execute_result"
    }
   ],
   "source": [
    "# Import our dependencies\n",
    "from sklearn.model_selection import train_test_split\n",
    "from sklearn.model_selection import GridSearchCV\n",
    "from sklearn.preprocessing import StandardScaler\n",
    "from keras.wrappers.scikit_learn import KerasClassifier\n",
    "import pandas as pd\n",
    "import tensorflow as tf\n",
    "import keras\n",
    "\n",
    "#  Import and read the charity_data.csv.\n",
    "import pandas as pd \n",
    "application_df = pd.read_csv(\"Resources/charity_data.csv\")\n",
    "application_df.head()"
   ]
  },
  {
   "cell_type": "markdown",
   "metadata": {},
   "source": [
    "The features of this model will be APPLICATION_TYPE, AFFILIATION, CLASSIFICATION, USE_CASE, ORGANIZATION, STATUS, INCOME_AMT, SPECIAL_CONSIDERATIONS, and ASK_AMT.\n",
    "\n",
    "The target of this model will be IS_SUCCESSFUL."
   ]
  },
  {
   "cell_type": "code",
   "execution_count": 3,
   "metadata": {},
   "outputs": [
    {
     "data": {
      "text/plain": [
       "EIN                        int64\n",
       "NAME                      object\n",
       "APPLICATION_TYPE          object\n",
       "AFFILIATION               object\n",
       "CLASSIFICATION            object\n",
       "USE_CASE                  object\n",
       "ORGANIZATION              object\n",
       "STATUS                     int64\n",
       "INCOME_AMT                object\n",
       "SPECIAL_CONSIDERATIONS    object\n",
       "ASK_AMT                    int64\n",
       "IS_SUCCESSFUL              int64\n",
       "dtype: object"
      ]
     },
     "execution_count": 3,
     "metadata": {},
     "output_type": "execute_result"
    }
   ],
   "source": [
    "application_df.dtypes"
   ]
  },
  {
   "cell_type": "code",
   "execution_count": 4,
   "metadata": {},
   "outputs": [],
   "source": [
    "# Drop the non-beneficial ID columns, 'EIN' and 'NAME'.\n",
    "application_prep = application_df.drop(['EIN'], axis = 1)"
   ]
  },
  {
   "cell_type": "code",
   "execution_count": 5,
   "metadata": {},
   "outputs": [
    {
     "data": {
      "text/plain": [
       "NAME                      19568\n",
       "APPLICATION_TYPE             17\n",
       "AFFILIATION                   6\n",
       "CLASSIFICATION               71\n",
       "USE_CASE                      5\n",
       "ORGANIZATION                  4\n",
       "STATUS                        2\n",
       "INCOME_AMT                    9\n",
       "SPECIAL_CONSIDERATIONS        2\n",
       "ASK_AMT                    8747\n",
       "IS_SUCCESSFUL                 2\n",
       "dtype: int64"
      ]
     },
     "execution_count": 5,
     "metadata": {},
     "output_type": "execute_result"
    }
   ],
   "source": [
    "# Determine the number of unique values in each column.\n",
    "application_prep.nunique()"
   ]
  },
  {
   "cell_type": "markdown",
   "metadata": {},
   "source": [
    "Categorical Columns with more than 10 unique values: APPLICATION_TYPE (17), CLASSIFICATION (71)"
   ]
  },
  {
   "cell_type": "code",
   "execution_count": 6,
   "metadata": {},
   "outputs": [
    {
     "data": {
      "text/plain": [
       "PARENT BOOSTER USA INC                                                    1260\n",
       "TOPS CLUB INC                                                              765\n",
       "UNITED STATES BOWLING CONGRESS INC                                         700\n",
       "WASHINGTON STATE UNIVERSITY                                                492\n",
       "AMATEUR ATHLETIC UNION OF THE UNITED STATES INC                            408\n",
       "                                                                          ... \n",
       "USA SWIMMING INC                                                            11\n",
       "SIGMA ALPHA OMEGA CHRISTIAN SORORITY INC                                    11\n",
       "SOCIETY FOR PRESERVATION & ENCOURMT OF BARBERSHOP QUARTET SINGING AMER      11\n",
       "SONS OF ITALY IN AMERICA                                                    11\n",
       "FELLOWSHIP OF CHRISTIAN COWBOYS INC                                         11\n",
       "Name: NAME, Length: 204, dtype: int64"
      ]
     },
     "execution_count": 6,
     "metadata": {},
     "output_type": "execute_result"
    }
   ],
   "source": [
    "name_types = pd.Series(application_prep['NAME']).value_counts()\n",
    "name_types[name_types > 10]"
   ]
  },
  {
   "cell_type": "code",
   "execution_count": 7,
   "metadata": {},
   "outputs": [
    {
     "data": {
      "text/plain": [
       "Less_Than_10                                                              21202\n",
       "PARENT BOOSTER USA INC                                                     1260\n",
       "TOPS CLUB INC                                                               765\n",
       "UNITED STATES BOWLING CONGRESS INC                                          700\n",
       "WASHINGTON STATE UNIVERSITY                                                 492\n",
       "                                                                          ...  \n",
       "AMERICAN POSTAL WORKERS UNION                                                11\n",
       "SOCIETY FOR PRESERVATION & ENCOURMT OF BARBERSHOP QUARTET SINGING AMER       11\n",
       "SIGMA ALPHA OMEGA CHRISTIAN SORORITY INC                                     11\n",
       "FINANCIAL PLANNING ASSOCIATION                                               11\n",
       "SLOW FOOD U S A INC                                                          11\n",
       "Name: NAME, Length: 205, dtype: int64"
      ]
     },
     "execution_count": 7,
     "metadata": {},
     "output_type": "execute_result"
    }
   ],
   "source": [
    "# Choose a cutoff value and create a list of application types to be replaced - Starter_Code cutoff was between 156 and 528\n",
    "bin_name = f\"Less_Than_{name_cutoff}\"\n",
    "\n",
    "# use the variable name `application_types_to_replace`\n",
    "name_types_to_replace = []\n",
    "\n",
    "for name, count in name_types.iteritems():\n",
    "    if count <= name_cutoff:\n",
    "        name_types_to_replace.append(name)\n",
    "\n",
    "# Replace in dataframe\n",
    "for name in name_types_to_replace:\n",
    "    application_prep['NAME'] = application_prep['NAME'].replace(name, bin_name)\n",
    "\n",
    "# Check to make sure binning was successful\n",
    "application_prep['NAME'].value_counts()"
   ]
  },
  {
   "cell_type": "code",
   "execution_count": 8,
   "metadata": {},
   "outputs": [
    {
     "data": {
      "text/plain": [
       "T3     27037\n",
       "T4      1542\n",
       "T6      1216\n",
       "T5      1173\n",
       "T19     1065\n",
       "T8       737\n",
       "T7       725\n",
       "T10      528\n",
       "T9       156\n",
       "T13       66\n",
       "T12       27\n",
       "T2        16\n",
       "T25        3\n",
       "T14        3\n",
       "T29        2\n",
       "T15        2\n",
       "T17        1\n",
       "Name: APPLICATION_TYPE, dtype: int64"
      ]
     },
     "execution_count": 8,
     "metadata": {},
     "output_type": "execute_result"
    }
   ],
   "source": [
    "# Look at APPLICATION_TYPE value counts for binning\n",
    "application_types = pd.Series(application_prep['APPLICATION_TYPE']).value_counts()\n",
    "application_types"
   ]
  },
  {
   "cell_type": "code",
   "execution_count": 9,
   "metadata": {},
   "outputs": [
    {
     "data": {
      "text/plain": [
       "T3               27037\n",
       "T4                1542\n",
       "T6                1216\n",
       "T5                1173\n",
       "T19               1065\n",
       "T8                 737\n",
       "T7                 725\n",
       "T10                528\n",
       "Less_Than_200      276\n",
       "Name: APPLICATION_TYPE, dtype: int64"
      ]
     },
     "execution_count": 9,
     "metadata": {},
     "output_type": "execute_result"
    }
   ],
   "source": [
    "# Choose a cutoff value and create a list of application types to be replaced - Starter_Code cutoff was between 156 and 528\n",
    "bin_name = f\"Less_Than_{application_cutoff}\"\n",
    "\n",
    "# use the variable name `application_types_to_replace`\n",
    "application_types_to_replace = []\n",
    "\n",
    "for app, count in application_types.iteritems():\n",
    "    if count < application_cutoff:\n",
    "        application_types_to_replace.append(app)\n",
    "\n",
    "# Replace in dataframe\n",
    "for app in application_types_to_replace:\n",
    "    application_prep['APPLICATION_TYPE'] = application_prep['APPLICATION_TYPE'].replace(app, bin_name)\n",
    "\n",
    "# Check to make sure binning was successful\n",
    "application_prep['APPLICATION_TYPE'].value_counts()"
   ]
  },
  {
   "cell_type": "code",
   "execution_count": 10,
   "metadata": {},
   "outputs": [
    {
     "data": {
      "text/plain": [
       "C1000    17326\n",
       "C2000     6074\n",
       "C1200     4837\n",
       "C3000     1918\n",
       "C2100     1883\n",
       "         ...  \n",
       "C4120        1\n",
       "C8210        1\n",
       "C2561        1\n",
       "C4500        1\n",
       "C2150        1\n",
       "Name: CLASSIFICATION, Length: 71, dtype: int64"
      ]
     },
     "execution_count": 10,
     "metadata": {},
     "output_type": "execute_result"
    }
   ],
   "source": [
    "# Look at CLASSIFICATION value counts for binning\n",
    "classification_types = pd.Series(application_prep['CLASSIFICATION']).value_counts()\n",
    "classification_types"
   ]
  },
  {
   "cell_type": "code",
   "execution_count": 11,
   "metadata": {},
   "outputs": [
    {
     "data": {
      "text/plain": [
       "C1000    17326\n",
       "C2000     6074\n",
       "C1200     4837\n",
       "C3000     1918\n",
       "C2100     1883\n",
       "C7000      777\n",
       "C1700      287\n",
       "C4000      194\n",
       "C5000      116\n",
       "C1270      114\n",
       "C2700      104\n",
       "C2800       95\n",
       "C7100       75\n",
       "C1300       58\n",
       "C1280       50\n",
       "C1230       36\n",
       "C1400       34\n",
       "C7200       32\n",
       "C2300       32\n",
       "C1240       30\n",
       "C8000       20\n",
       "C7120       18\n",
       "C1500       16\n",
       "C1800       15\n",
       "C6000       15\n",
       "C1250       14\n",
       "C8200       11\n",
       "C1238       10\n",
       "C1278       10\n",
       "C1235        9\n",
       "C1237        9\n",
       "C7210        7\n",
       "C2400        6\n",
       "C1720        6\n",
       "C4100        6\n",
       "C1257        5\n",
       "C1600        5\n",
       "C1260        3\n",
       "C2710        3\n",
       "C0           3\n",
       "C3200        2\n",
       "C1234        2\n",
       "C1246        2\n",
       "C1267        2\n",
       "C1256        2\n",
       "Name: CLASSIFICATION, dtype: int64"
      ]
     },
     "execution_count": 11,
     "metadata": {},
     "output_type": "execute_result"
    }
   ],
   "source": [
    "# You may find it helpful to look at CLASSIFICATION value counts >1\n",
    "classification_types[classification_types > 1]"
   ]
  },
  {
   "cell_type": "code",
   "execution_count": 12,
   "metadata": {},
   "outputs": [
    {
     "data": {
      "text/plain": [
       "C1000             17326\n",
       "C2000              6074\n",
       "C1200              4837\n",
       "Less_Than_1000     2261\n",
       "C3000              1918\n",
       "C2100              1883\n",
       "Name: CLASSIFICATION, dtype: int64"
      ]
     },
     "execution_count": 12,
     "metadata": {},
     "output_type": "execute_result"
    }
   ],
   "source": [
    "# Choose a cutoff value and create a list of classifications to be replaced - Starter_Code cutoff was between 1883 and 777\n",
    "bin_name = f\"Less_Than_{classification_cutoff}\"\n",
    "\n",
    "# use the variable name `classifications_to_replace`\n",
    "classifications_to_replace = []\n",
    "\n",
    "for classification, count in classification_types.iteritems():\n",
    "    if count < classification_cutoff :\n",
    "        classifications_to_replace.append(classification)\n",
    "\n",
    "# Replace in dataframe\n",
    "for classification in classifications_to_replace:\n",
    "    application_prep['CLASSIFICATION'] = application_prep['CLASSIFICATION'].replace(classification,bin_name)\n",
    "    \n",
    "# Check to make sure binning was successful\n",
    "application_prep['CLASSIFICATION'].value_counts()"
   ]
  },
  {
   "cell_type": "code",
   "execution_count": 13,
   "metadata": {},
   "outputs": [
    {
     "data": {
      "text/html": [
       "<div>\n",
       "<style scoped>\n",
       "    .dataframe tbody tr th:only-of-type {\n",
       "        vertical-align: middle;\n",
       "    }\n",
       "\n",
       "    .dataframe tbody tr th {\n",
       "        vertical-align: top;\n",
       "    }\n",
       "\n",
       "    .dataframe thead th {\n",
       "        text-align: right;\n",
       "    }\n",
       "</style>\n",
       "<table border=\"1\" class=\"dataframe\">\n",
       "  <thead>\n",
       "    <tr style=\"text-align: right;\">\n",
       "      <th></th>\n",
       "      <th>NAME</th>\n",
       "      <th>APPLICATION_TYPE</th>\n",
       "      <th>AFFILIATION</th>\n",
       "      <th>CLASSIFICATION</th>\n",
       "      <th>USE_CASE</th>\n",
       "      <th>ORGANIZATION</th>\n",
       "      <th>STATUS</th>\n",
       "      <th>INCOME_AMT</th>\n",
       "      <th>SPECIAL_CONSIDERATIONS</th>\n",
       "      <th>ASK_AMT</th>\n",
       "      <th>IS_SUCCESSFUL</th>\n",
       "    </tr>\n",
       "  </thead>\n",
       "  <tbody>\n",
       "    <tr>\n",
       "      <th>0</th>\n",
       "      <td>Less_Than_10</td>\n",
       "      <td>T10</td>\n",
       "      <td>Independent</td>\n",
       "      <td>C1000</td>\n",
       "      <td>ProductDev</td>\n",
       "      <td>Association</td>\n",
       "      <td>1</td>\n",
       "      <td>0</td>\n",
       "      <td>N</td>\n",
       "      <td>5000</td>\n",
       "      <td>1</td>\n",
       "    </tr>\n",
       "    <tr>\n",
       "      <th>1</th>\n",
       "      <td>Less_Than_10</td>\n",
       "      <td>T3</td>\n",
       "      <td>Independent</td>\n",
       "      <td>C2000</td>\n",
       "      <td>Preservation</td>\n",
       "      <td>Co-operative</td>\n",
       "      <td>1</td>\n",
       "      <td>1-9999</td>\n",
       "      <td>N</td>\n",
       "      <td>108590</td>\n",
       "      <td>1</td>\n",
       "    </tr>\n",
       "    <tr>\n",
       "      <th>2</th>\n",
       "      <td>Less_Than_10</td>\n",
       "      <td>T5</td>\n",
       "      <td>CompanySponsored</td>\n",
       "      <td>C3000</td>\n",
       "      <td>ProductDev</td>\n",
       "      <td>Association</td>\n",
       "      <td>1</td>\n",
       "      <td>0</td>\n",
       "      <td>N</td>\n",
       "      <td>5000</td>\n",
       "      <td>0</td>\n",
       "    </tr>\n",
       "    <tr>\n",
       "      <th>3</th>\n",
       "      <td>Less_Than_10</td>\n",
       "      <td>T3</td>\n",
       "      <td>CompanySponsored</td>\n",
       "      <td>C2000</td>\n",
       "      <td>Preservation</td>\n",
       "      <td>Trust</td>\n",
       "      <td>1</td>\n",
       "      <td>10000-24999</td>\n",
       "      <td>N</td>\n",
       "      <td>6692</td>\n",
       "      <td>1</td>\n",
       "    </tr>\n",
       "    <tr>\n",
       "      <th>4</th>\n",
       "      <td>Less_Than_10</td>\n",
       "      <td>T3</td>\n",
       "      <td>Independent</td>\n",
       "      <td>C1000</td>\n",
       "      <td>Heathcare</td>\n",
       "      <td>Trust</td>\n",
       "      <td>1</td>\n",
       "      <td>100000-499999</td>\n",
       "      <td>N</td>\n",
       "      <td>142590</td>\n",
       "      <td>1</td>\n",
       "    </tr>\n",
       "  </tbody>\n",
       "</table>\n",
       "</div>"
      ],
      "text/plain": [
       "           NAME APPLICATION_TYPE       AFFILIATION CLASSIFICATION  \\\n",
       "0  Less_Than_10              T10       Independent          C1000   \n",
       "1  Less_Than_10               T3       Independent          C2000   \n",
       "2  Less_Than_10               T5  CompanySponsored          C3000   \n",
       "3  Less_Than_10               T3  CompanySponsored          C2000   \n",
       "4  Less_Than_10               T3       Independent          C1000   \n",
       "\n",
       "       USE_CASE  ORGANIZATION  STATUS     INCOME_AMT SPECIAL_CONSIDERATIONS  \\\n",
       "0    ProductDev   Association       1              0                      N   \n",
       "1  Preservation  Co-operative       1         1-9999                      N   \n",
       "2    ProductDev   Association       1              0                      N   \n",
       "3  Preservation         Trust       1    10000-24999                      N   \n",
       "4     Heathcare         Trust       1  100000-499999                      N   \n",
       "\n",
       "   ASK_AMT  IS_SUCCESSFUL  \n",
       "0     5000              1  \n",
       "1   108590              1  \n",
       "2     5000              0  \n",
       "3     6692              1  \n",
       "4   142590              1  "
      ]
     },
     "execution_count": 13,
     "metadata": {},
     "output_type": "execute_result"
    }
   ],
   "source": [
    "application_prep.head()"
   ]
  },
  {
   "cell_type": "code",
   "execution_count": 14,
   "metadata": {},
   "outputs": [],
   "source": [
    "# Convert categorical data to numeric with `pd.get_dummies`\n",
    "application_dummies = pd.get_dummies(application_prep)"
   ]
  },
  {
   "cell_type": "code",
   "execution_count": 15,
   "metadata": {},
   "outputs": [
    {
     "data": {
      "text/plain": [
       "Index(['STATUS', 'ASK_AMT', 'IS_SUCCESSFUL',\n",
       "       'NAME_ACE MENTOR PROGRAM OF AMERICA INC', 'NAME_AIR FORCE ASSOCIATION',\n",
       "       'NAME_ALABAMA FEDERATION OF WOMENS CLUBS',\n",
       "       'NAME_ALABAMA TREASURE FOREST ASSOCIATION', 'NAME_ALPHA PHI SIGMA',\n",
       "       'NAME_ALPHA PHI SIGMA INC', 'NAME_ALTRUSA INTERNATIONAL FOUNDATION INC',\n",
       "       ...\n",
       "       'INCOME_AMT_1-9999', 'INCOME_AMT_10000-24999',\n",
       "       'INCOME_AMT_100000-499999', 'INCOME_AMT_10M-50M', 'INCOME_AMT_1M-5M',\n",
       "       'INCOME_AMT_25000-99999', 'INCOME_AMT_50M+', 'INCOME_AMT_5M-10M',\n",
       "       'SPECIAL_CONSIDERATIONS_N', 'SPECIAL_CONSIDERATIONS_Y'],\n",
       "      dtype='object', length=249)"
      ]
     },
     "execution_count": 15,
     "metadata": {},
     "output_type": "execute_result"
    }
   ],
   "source": [
    "application_dummies.columns"
   ]
  },
  {
   "cell_type": "markdown",
   "metadata": {
    "tags": []
   },
   "source": [
    "### Separate Target and Features into Training and Testing Sets"
   ]
  },
  {
   "cell_type": "code",
   "execution_count": 16,
   "metadata": {},
   "outputs": [],
   "source": [
    "# Split our preprocessed data into our features and target arrays\n",
    "X = application_dummies.drop(['IS_SUCCESSFUL'], axis = 1)\n",
    "y = application_dummies['IS_SUCCESSFUL']\n",
    "\n",
    "# Split the preprocessed data into a training and testing dataset\n",
    "X_train, X_test, y_train, y_test = train_test_split(X, y, random_state=1)"
   ]
  },
  {
   "cell_type": "code",
   "execution_count": 17,
   "metadata": {},
   "outputs": [],
   "source": [
    "# Create a StandardScaler instances\n",
    "scaler = StandardScaler()\n",
    "\n",
    "# Fit the StandardScaler\n",
    "X_scaler = scaler.fit(X_train)\n",
    "\n",
    "# Scale the data\n",
    "X_train_scaled = X_scaler.transform(X_train)\n",
    "X_test_scaled = X_scaler.transform(X_test)"
   ]
  },
  {
   "cell_type": "code",
   "execution_count": 18,
   "metadata": {},
   "outputs": [
    {
     "data": {
      "text/plain": [
       "((25724, 248), (8575, 248))"
      ]
     },
     "execution_count": 18,
     "metadata": {},
     "output_type": "execute_result"
    }
   ],
   "source": [
    "X_train_scaled.shape, X_test_scaled.shape"
   ]
  },
  {
   "cell_type": "markdown",
   "metadata": {
    "tags": []
   },
   "source": [
    "# Compile, Train and Evaluate the Model"
   ]
  },
  {
   "cell_type": "code",
   "execution_count": 19,
   "metadata": {},
   "outputs": [
    {
     "name": "stdout",
     "output_type": "stream",
     "text": [
      "Model: \"sequential\"\n",
      "_________________________________________________________________\n",
      "Layer (type)                 Output Shape              Param #   \n",
      "=================================================================\n",
      "dense (Dense)                (None, 27)                6723      \n",
      "_________________________________________________________________\n",
      "dense_1 (Dense)              (None, 5)                 140       \n",
      "_________________________________________________________________\n",
      "dense_2 (Dense)              (None, 3)                 18        \n",
      "_________________________________________________________________\n",
      "dense_3 (Dense)              (None, 7)                 28        \n",
      "_________________________________________________________________\n",
      "dense_4 (Dense)              (None, 1)                 8         \n",
      "=================================================================\n",
      "Total params: 6,917\n",
      "Trainable params: 6,917\n",
      "Non-trainable params: 0\n",
      "_________________________________________________________________\n"
     ]
    }
   ],
   "source": [
    "# Define the model - deep neural net, i.e., the number of input features and hidden nodes for each layer.\n",
    "num_features = len(X_train_scaled[0])\n",
    "\n",
    "nn = tf.keras.models.Sequential()\n",
    "\n",
    "# First hidden layer\n",
    "nn.add(tf.keras.layers.Dense(units = neurons_1, activation = activation_1, input_dim = num_features))\n",
    "\n",
    "# Second hidden layer (\"If Necessary\")\n",
    "nn.add(tf.keras.layers.Dense(units = neurons_2, activation = activation_2))\n",
    "\n",
    "# Third hidden layer (\"If Necessary\")\n",
    "nn.add(tf.keras.layers.Dense(units = neurons_3, activation = activation_3))\n",
    "\n",
    "# Third hidden layer (\"If Necessary\")\n",
    "nn.add(tf.keras.layers.Dense(units = neurons_4, activation = activation_4))\n",
    "\n",
    "# Output layer\n",
    "nn.add(tf.keras.layers.Dense(units=1, activation = activation_outer))\n",
    "\n",
    "# Check the structure of the model\n",
    "nn.summary()"
   ]
  },
  {
   "cell_type": "code",
   "execution_count": 20,
   "metadata": {},
   "outputs": [],
   "source": [
    "# Compile the model\n",
    "nn.compile(loss=\"binary_crossentropy\", optimizer=\"adam\", metrics=[\"accuracy\"])"
   ]
  },
  {
   "cell_type": "code",
   "execution_count": 40,
   "metadata": {},
   "outputs": [],
   "source": [
    "# Create a callback that saves the model's weights every 5 epochs.\n",
    "saves = 5\n",
    "mc = keras.callbacks.ModelCheckpoint('Optimized_Weights/weights{epoch:08d}.h5', save_weights_only=True, save_freq=saves, verbose = 0)"
   ]
  },
  {
   "cell_type": "code",
   "execution_count": null,
   "metadata": {},
   "outputs": [],
   "source": []
  },
  {
   "cell_type": "code",
   "execution_count": 22,
   "metadata": {},
   "outputs": [
    {
     "name": "stdout",
     "output_type": "stream",
     "text": [
      "Epoch 1/20\n",
      "804/804 [==============================] - 0s 507us/step - loss: 0.6300 - accuracy: 0.7064\n",
      "Epoch 2/20\n",
      "804/804 [==============================] - 0s 490us/step - loss: 0.5024 - accuracy: 0.7830\n",
      "Epoch 3/20\n",
      "804/804 [==============================] - 0s 496us/step - loss: 0.4718 - accuracy: 0.7846\n",
      "Epoch 4/20\n",
      "804/804 [==============================] - 0s 482us/step - loss: 0.4588 - accuracy: 0.7850\n",
      "Epoch 5/20\n",
      "804/804 [==============================] - 0s 486us/step - loss: 0.4532 - accuracy: 0.7852\n",
      "Epoch 6/20\n",
      "804/804 [==============================] - 0s 494us/step - loss: 0.4488 - accuracy: 0.7880\n",
      "Epoch 7/20\n",
      "804/804 [==============================] - 0s 481us/step - loss: 0.4461 - accuracy: 0.7867\n",
      "Epoch 8/20\n",
      "804/804 [==============================] - 0s 483us/step - loss: 0.4437 - accuracy: 0.7869\n",
      "Epoch 9/20\n",
      "804/804 [==============================] - 0s 499us/step - loss: 0.4424 - accuracy: 0.7891\n",
      "Epoch 10/20\n",
      "804/804 [==============================] - 0s 489us/step - loss: 0.4408 - accuracy: 0.7881\n",
      "Epoch 11/20\n",
      "804/804 [==============================] - 0s 494us/step - loss: 0.4397 - accuracy: 0.7894\n",
      "Epoch 12/20\n",
      "804/804 [==============================] - 0s 502us/step - loss: 0.4386 - accuracy: 0.7906\n",
      "Epoch 13/20\n",
      "804/804 [==============================] - 0s 488us/step - loss: 0.4379 - accuracy: 0.7898\n",
      "Epoch 14/20\n",
      "804/804 [==============================] - 0s 496us/step - loss: 0.4375 - accuracy: 0.7900\n",
      "Epoch 15/20\n",
      "804/804 [==============================] - 0s 490us/step - loss: 0.4364 - accuracy: 0.7900\n",
      "Epoch 16/20\n",
      "804/804 [==============================] - 0s 490us/step - loss: 0.4357 - accuracy: 0.7911\n",
      "Epoch 17/20\n",
      "804/804 [==============================] - 0s 496us/step - loss: 0.4351 - accuracy: 0.7911\n",
      "Epoch 18/20\n",
      "804/804 [==============================] - 0s 489us/step - loss: 0.4352 - accuracy: 0.7910\n",
      "Epoch 19/20\n",
      "804/804 [==============================] - 0s 488us/step - loss: 0.4345 - accuracy: 0.7920\n",
      "Epoch 20/20\n",
      "804/804 [==============================] - 0s 505us/step - loss: 0.4338 - accuracy: 0.7916\n"
     ]
    }
   ],
   "source": [
    "# Train the model\n",
    "fit_model = nn.fit(X_train_scaled, y_train, epochs=num_epochs, callbacks=[mc])"
   ]
  },
  {
   "cell_type": "code",
   "execution_count": 23,
   "metadata": {},
   "outputs": [
    {
     "data": {
      "image/png": "[encoded data removed]",
      "text/plain": [
       "<Figure size 432x288 with 1 Axes>"
      ]
     },
     "metadata": {
      "needs_background": "light"
     },
     "output_type": "display_data"
    },
    {
     "data": {
      "image/png": "[encoded data removed]",
      "text/plain": [
       "<Figure size 432x288 with 1 Axes>"
      ]
     },
     "metadata": {
      "needs_background": "light"
     },
     "output_type": "display_data"
    }
   ],
   "source": [
    "# Create a DataFrame containing training history\n",
    "history_df = pd.DataFrame(fit_model.history)\n",
    "\n",
    "# Increase the index by 1 to match the number of epochs\n",
    "history_df.index += 1\n",
    "\n",
    "# Plot the loss\n",
    "history_df.plot(y=\"loss\")\n",
    "history_df.plot(y=\"accuracy\");"
   ]
  },
  {
   "cell_type": "code",
   "execution_count": 24,
   "metadata": {},
   "outputs": [
    {
     "name": "stdout",
     "output_type": "stream",
     "text": [
      "Loss: 0.4496363699436188, Accuracy: 0.7826238870620728\n"
     ]
    }
   ],
   "source": [
    "# Evaluate the model using the test data\n",
    "model_loss, model_accuracy = nn.evaluate(X_test_scaled, y_test, verbose=0)\n",
    "print(f\"Loss: {model_loss}, Accuracy: {model_accuracy}\")"
   ]
  },
  {
   "cell_type": "code",
   "execution_count": 25,
   "metadata": {},
   "outputs": [],
   "source": [
    "# Save and export your results to an HDF5 file\n",
    "nn.save(\"AlphabetSoupCharity_Optimization.h5\")"
   ]
  },
  {
   "cell_type": "code",
   "execution_count": 26,
   "metadata": {},
   "outputs": [],
   "source": [
    "# Load the model\n",
    "from tensorflow.keras.models import load_model\n",
    "loan_model = load_model(\"AlphabetSoupCharity_Optimization.h5\")"
   ]
  },
  {
   "cell_type": "code",
   "execution_count": 27,
   "metadata": {},
   "outputs": [
    {
     "name": "stdout",
     "output_type": "stream",
     "text": [
      "Normal Neural Network - Loss: 0.4496363699436188, Accuracy: 0.7826238870620728\n"
     ]
    }
   ],
   "source": [
    "model_loss, model_accuracy = loan_model.evaluate(X_test_scaled, y_test, verbose=0)\n",
    "print(f\"Normal Neural Network - Loss: {model_loss}, Accuracy: {model_accuracy}\")"
   ]
  },
  {
   "cell_type": "markdown",
   "metadata": {},
   "source": [
    "## Values Before Optimization"
   ]
  },
  {
   "cell_type": "markdown",
   "metadata": {},
   "source": [
    "    268/268 - 0s - loss: 0.5555 - accuracy: 0.7297\n",
    "    Normal Neural Network - Loss: 0.5554825067520142, Accuracy: 0.72967928647995"
   ]
  },
  {
   "cell_type": "markdown",
   "metadata": {
    "tags": []
   },
   "source": [
    "## Automated Optimization"
   ]
  },
  {
   "cell_type": "code",
   "execution_count": 28,
   "metadata": {},
   "outputs": [],
   "source": [
    "# Create a method that creates a new Sequential model with hyperparameter options\n",
    "def create_model(hp):\n",
    "    nn_model = tf.keras.models.Sequential()\n",
    "\n",
    "    # Allow kerastuner to decide which activation function to use in hidden layers\n",
    "    activation = hp.Choice('activation',['relu','tanh','sigmoid'])\n",
    "    \n",
    "    # Allow kerastuner to decide number of neurons in first layer\n",
    "    nn_model.add(tf.keras.layers.Dense(units=hp.Int('first_units',\n",
    "        min_value=1,\n",
    "        max_value=30,\n",
    "        step=2), activation=activation, input_dim=num_features))\n",
    "\n",
    "    # Allow kerastuner to decide number of hidden layers and neurons in hidden layers\n",
    "    for i in range(hp.Int('num_layers', 1, 6)):\n",
    "        nn_model.add(tf.keras.layers.Dense(units=hp.Int('units_' + str(i),\n",
    "            min_value=1,\n",
    "            max_value=30,\n",
    "            step=2),\n",
    "            activation=activation))\n",
    "    \n",
    "    nn_model.add(tf.keras.layers.Dense(units=1, activation=\"sigmoid\"))\n",
    "\n",
    "    # Compile the model\n",
    "    nn_model.compile(loss=\"binary_crossentropy\", optimizer='adam', metrics=[\"accuracy\"])\n",
    "    \n",
    "    return nn_model"
   ]
  },
  {
   "cell_type": "code",
   "execution_count": 29,
   "metadata": {},
   "outputs": [
    {
     "name": "stdout",
     "output_type": "stream",
     "text": [
      "INFO:tensorflow:Reloading Oracle from existing project .\\untitled_project\\oracle.json\n",
      "INFO:tensorflow:Reloading Tuner from .\\untitled_project\\tuner0.json\n"
     ]
    }
   ],
   "source": [
    "# Import the kerastuner library\n",
    "import keras_tuner as kt\n",
    "\n",
    "tuner = kt.Hyperband(\n",
    "    create_model,\n",
    "    objective=\"val_accuracy\",\n",
    "    max_epochs=50,\n",
    "    hyperband_iterations=2)"
   ]
  },
  {
   "cell_type": "code",
   "execution_count": 30,
   "metadata": {},
   "outputs": [
    {
     "name": "stdout",
     "output_type": "stream",
     "text": [
      "INFO:tensorflow:Oracle triggered exit\n"
     ]
    }
   ],
   "source": [
    "# Run the kerastuner search for best hyperparameters\n",
    "tuner.search(X_train_scaled, y_train, epochs = 20, validation_data=(X_test_scaled,y_test))"
   ]
  },
  {
   "cell_type": "code",
   "execution_count": 31,
   "metadata": {},
   "outputs": [
    {
     "data": {
      "text/plain": [
       "((25724, 248), (8575, 248))"
      ]
     },
     "execution_count": 31,
     "metadata": {},
     "output_type": "execute_result"
    }
   ],
   "source": [
    "X_train_scaled.shape, X_test_scaled.shape"
   ]
  },
  {
   "cell_type": "code",
   "execution_count": 32,
   "metadata": {},
   "outputs": [
    {
     "data": {
      "text/plain": [
       "{'activation': 'relu',\n",
       " 'first_units': 27,\n",
       " 'num_layers': 4,\n",
       " 'units_0': 21,\n",
       " 'units_1': 23,\n",
       " 'units_2': 9,\n",
       " 'units_3': 17,\n",
       " 'units_4': 15,\n",
       " 'units_5': 5,\n",
       " 'tuner/epochs': 50,\n",
       " 'tuner/initial_epoch': 0,\n",
       " 'tuner/bracket': 0,\n",
       " 'tuner/round': 0}"
      ]
     },
     "execution_count": 32,
     "metadata": {},
     "output_type": "execute_result"
    }
   ],
   "source": [
    "# Get best model hyperparameters\n",
    "best_hyper = tuner.get_best_hyperparameters()[0]\n",
    "best_hyper.values"
   ]
  },
  {
   "cell_type": "code",
   "execution_count": 33,
   "metadata": {},
   "outputs": [],
   "source": [
    "def get_best_model(nn, parameters, X_train_scaled, y_train):\n",
    "    clf = GridSearchCV(model, parameters, cv=4, n_jobs=-1)\n",
    "    clf.fit(X_train, y_train)\n",
    "    # print(clf.best_params_)\n",
    "    return clf.best_estimator_ "
   ]
  },
  {
   "cell_type": "code",
   "execution_count": 34,
   "metadata": {},
   "outputs": [],
   "source": [
    "model = KerasClassifier(build_fn=create_model, epochs=100, batch_size=10, verbose=0)"
   ]
  },
  {
   "cell_type": "code",
   "execution_count": 35,
   "metadata": {},
   "outputs": [],
   "source": [
    "# activation = ['softmax', 'softplus', 'softsign', 'relu', 'tanh', 'sigmoid', 'hard_sigmoid', 'linear']\n",
    "# param_grid = dict(activation=activation)\n",
    "\n",
    "\n",
    "# param_grid = dict(epochs=[10, 20, 30])\n",
    "# grid = GridSearchCV(estimator=model, param_grid = param_grid, n_jobs=-1, cv=3)\n",
    "# grid_result = grid.fit(X_train, y_train)"
   ]
  },
  {
   "cell_type": "code",
   "execution_count": 36,
   "metadata": {},
   "outputs": [],
   "source": [
    "# best_model = tuner.get_best_models()[0]\n",
    "# best_model"
   ]
  },
  {
   "cell_type": "code",
   "execution_count": 37,
   "metadata": {},
   "outputs": [
    {
     "name": "stdout",
     "output_type": "stream",
     "text": [
      "268/268 - 0s - loss: 0.4496 - accuracy: 0.7872\n",
      "Loss: 0.4495547413825989, Accuracy: 0.7871720194816589\n"
     ]
    }
   ],
   "source": [
    "# Evaluate best model against full test data\n",
    "best_model = tuner.get_best_models(1)[0]\n",
    "model_loss, model_accuracy = best_model.evaluate(X_test_scaled, y_test, verbose=2)\n",
    "print(f\"Loss: {model_loss}, Accuracy: {model_accuracy}\")"
   ]
  },
  {
   "cell_type": "code",
   "execution_count": 39,
   "metadata": {},
   "outputs": [
    {
     "name": "stdout",
     "output_type": "stream",
     "text": [
      "WARNING:tensorflow:Callbacks method `on_test_batch_end` is slow compared to the batch time (batch time: 0.0000s vs `on_test_batch_end` time: 0.0010s). Check your callbacks.\n",
      "268/268 - 0s - loss: 0.4496 - accuracy: 0.7872\n",
      "Loss: 0.4495547413825989, Accuracy: 0.7871720194816589\n",
      "268/268 - 0s - loss: 0.4477 - accuracy: 0.7871\n",
      "Loss: 0.4477417767047882, Accuracy: 0.7870553731918335\n",
      "268/268 - 0s - loss: 0.4500 - accuracy: 0.7869\n",
      "Loss: 0.4500062167644501, Accuracy: 0.7869387865066528\n"
     ]
    }
   ],
   "source": [
    "# Evaluate the top 3 models against the test dataset\n",
    "top_model = tuner.get_best_models(3)\n",
    "for model in top_model:\n",
    "    model_loss, model_accuracy = model.evaluate(X_test_scaled, y_test, verbose=2)\n",
    "    print(f\"Loss: {model_loss}, Accuracy: {model_accuracy}\")"
   ]
  },
  {
   "cell_type": "code",
   "execution_count": null,
   "metadata": {},
   "outputs": [],
   "source": []
  },
  {
   "cell_type": "code",
   "execution_count": null,
   "metadata": {},
   "outputs": [],
   "source": []
  }
 ],
 "metadata": {
  "kernelspec": {
   "display_name": "Python 3 (ipykernel)",
   "language": "python",
   "name": "python3"
  },
  "language_info": {
   "codemirror_mode": {
    "name": "ipython",
    "version": 3
   },
   "file_extension": ".py",
   "mimetype": "text/x-python",
   "name": "python",
   "nbconvert_exporter": "python",
   "pygments_lexer": "ipython3",
   "version": "3.8.13"
  }
 },
 "nbformat": 4,
 "nbformat_minor": 4
}
